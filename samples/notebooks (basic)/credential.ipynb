{
 "cells": [
  {
   "cell_type": "markdown",
   "metadata": {},
   "source": [
    "# Credential"
   ]
  },
  {
   "cell_type": "code",
   "execution_count": 7,
   "metadata": {},
   "outputs": [
    {
     "name": "stdout",
     "output_type": "stream",
     "text": [
      "Requirement already satisfied: purviewcli in c:\\dvlp\\purview\\purview_cli\\.venv\\lib\\site-packages (0.3.3)\n",
      "Requirement already satisfied: docopt in c:\\dvlp\\purview\\purview_cli\\.venv\\lib\\site-packages (from purviewcli) (0.6.2)\n",
      "Requirement already satisfied: requests in c:\\dvlp\\purview\\purview_cli\\.venv\\lib\\site-packages (from purviewcli) (2.32.3)\n",
      "Requirement already satisfied: azure-identity in c:\\dvlp\\purview\\purview_cli\\.venv\\lib\\site-packages (from purviewcli) (1.23.0)\n",
      "Requirement already satisfied: azure-core>=1.31.0 in c:\\dvlp\\purview\\purview_cli\\.venv\\lib\\site-packages (from azure-identity->purviewcli) (1.34.0)\n",
      "Requirement already satisfied: cryptography>=2.5 in c:\\dvlp\\purview\\purview_cli\\.venv\\lib\\site-packages (from azure-identity->purviewcli) (45.0.3)\n",
      "Requirement already satisfied: msal>=1.30.0 in c:\\dvlp\\purview\\purview_cli\\.venv\\lib\\site-packages (from azure-identity->purviewcli) (1.32.3)\n",
      "Requirement already satisfied: msal-extensions>=1.2.0 in c:\\dvlp\\purview\\purview_cli\\.venv\\lib\\site-packages (from azure-identity->purviewcli) (1.3.1)\n",
      "Requirement already satisfied: typing-extensions>=4.0.0 in c:\\dvlp\\purview\\purview_cli\\.venv\\lib\\site-packages (from azure-identity->purviewcli) (4.14.0)\n",
      "Requirement already satisfied: six>=1.11.0 in c:\\dvlp\\purview\\purview_cli\\.venv\\lib\\site-packages (from azure-core>=1.31.0->azure-identity->purviewcli) (1.17.0)\n",
      "Requirement already satisfied: cffi>=1.14 in c:\\dvlp\\purview\\purview_cli\\.venv\\lib\\site-packages (from cryptography>=2.5->azure-identity->purviewcli) (1.17.1)\n",
      "Requirement already satisfied: pycparser in c:\\dvlp\\purview\\purview_cli\\.venv\\lib\\site-packages (from cffi>=1.14->cryptography>=2.5->azure-identity->purviewcli) (2.22)\n",
      "Requirement already satisfied: PyJWT<3,>=1.0.0 in c:\\dvlp\\purview\\purview_cli\\.venv\\lib\\site-packages (from PyJWT[crypto]<3,>=1.0.0->msal>=1.30.0->azure-identity->purviewcli) (2.10.1)\n",
      "Requirement already satisfied: charset-normalizer<4,>=2 in c:\\dvlp\\purview\\purview_cli\\.venv\\lib\\site-packages (from requests->purviewcli) (3.4.2)\n",
      "Requirement already satisfied: idna<4,>=2.5 in c:\\dvlp\\purview\\purview_cli\\.venv\\lib\\site-packages (from requests->purviewcli) (3.10)\n",
      "Requirement already satisfied: urllib3<3,>=1.21.1 in c:\\dvlp\\purview\\purview_cli\\.venv\\lib\\site-packages (from requests->purviewcli) (2.4.0)\n",
      "Requirement already satisfied: certifi>=2017.4.17 in c:\\dvlp\\purview\\purview_cli\\.venv\\lib\\site-packages (from requests->purviewcli) (2025.4.26)\n",
      "Note: you may need to restart the kernel to use updated packages.\n"
     ]
    }
   ],
   "source": [
    "# Install/Upgrade purviewcli package\n",
    "%pip install --upgrade purviewcli"
   ]
  },
  {
   "cell_type": "code",
   "execution_count": null,
   "metadata": {},
   "outputs": [],
   "source": [
    "# Environment Variables\n",
    "%env PURVIEW_NAME=YOUR_PURVIEW_ACCOUNT\n",
    "%env AZURE_CLIENT_ID=YOUR_CLIENT_ID\n",
    "%env AZURE_TENANT_ID=YOUR_TENANT_ID\n",
    "%env AZURE_CLIENT_SECRET=YOUR_CLIENT_SECRET\n",
    "%env PURVIEW_RETRY_AFTER_DEFAULT=5.0  # Default wait time (seconds) if Retry-After header is not a float"
   ]
  },
  {
   "cell_type": "code",
   "execution_count": 10,
   "metadata": {},
   "outputs": [
    {
     "name": "stderr",
     "output_type": "stream",
     "text": [
      "'pvw' is not recognized as an internal or external command,\n",
      "operable program or batch file.\n"
     ]
    }
   ],
   "source": [
    "# Commands\n",
    "!pvw --help"
   ]
  },
  {
   "cell_type": "markdown",
   "metadata": {},
   "source": [
    "## Create"
   ]
  },
  {
   "cell_type": "code",
   "execution_count": null,
   "metadata": {},
   "outputs": [],
   "source": [
    "# Create\n",
    "!pvw credential put --credentialName \"dummy\" --payloadFile \"..\\json\\credential\\credential.json\""
   ]
  },
  {
   "cell_type": "markdown",
   "metadata": {},
   "source": [
    "## Read"
   ]
  },
  {
   "cell_type": "code",
   "execution_count": null,
   "metadata": {},
   "outputs": [],
   "source": [
    "# Read\n",
    "!pvw credential read"
   ]
  },
  {
   "cell_type": "markdown",
   "metadata": {},
   "source": [
    "## Delete"
   ]
  },
  {
   "cell_type": "code",
   "execution_count": null,
   "metadata": {},
   "outputs": [],
   "source": [
    "# Delete\n",
    "!pvw credential delete --credentialName \"dummy\""
   ]
  },
  {
   "cell_type": "code",
   "execution_count": null,
   "metadata": {},
   "outputs": [],
   "source": []
  }
 ],
 "metadata": {
  "kernelspec": {
   "display_name": ".venv",
   "language": "python",
   "name": "python3"
  },
  "language_info": {
   "codemirror_mode": {
    "name": "ipython",
    "version": 3
   },
   "file_extension": ".py",
   "mimetype": "text/x-python",
   "name": "python",
   "nbconvert_exporter": "python",
   "pygments_lexer": "ipython3",
   "version": "3.10.11"
  },
  "metadata": {
   "interpreter": {
    "hash": "12e36838d520b1a5d9d0c411170e079c62a783e05fdada350eba99892041e52f"
   }
  },
  "orig_nbformat": 2
 },
 "nbformat": 4,
 "nbformat_minor": 2
}
