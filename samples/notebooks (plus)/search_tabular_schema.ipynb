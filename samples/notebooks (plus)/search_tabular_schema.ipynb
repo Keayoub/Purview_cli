{
 "cells": [
  {
   "cell_type": "markdown",
   "metadata": {},
   "source": [
    "# Advanced Search\n",
    "Find entities that have a tabular_schema"
   ]
  },
  {
   "cell_type": "code",
   "execution_count": null,
   "metadata": {},
   "outputs": [],
   "source": [
    "# Set Environment Variables\n",
    "%env PURVIEW_ACCOUNT_NAME=YOUR_PURVIEW_ACCOUNT_NAME"
   ]
  },
  {
   "cell_type": "code",
   "execution_count": null,
   "metadata": {},
   "outputs": [],
   "source": [
    "# Helper Methods\n",
    "import json\n",
    "def getJSON(raw_output):\n",
    "    output = ''.join(raw_output)\n",
    "    json_obj = json.loads(output)\n",
    "    return json_obj"
   ]
  },
  {
   "cell_type": "code",
   "execution_count": null,
   "metadata": {},
   "outputs": [],
   "source": [
    "# Get Search Results\n",
    "data = !pvw search query --keywords \"*\" --limit 1000\n",
    "data = getJSON(data)"
   ]
  },
  {
   "cell_type": "code",
   "execution_count": null,
   "metadata": {},
   "outputs": [],
   "source": [
    "# Get Bulk Entities\n",
    "import math\n",
    "entity_collection = []\n",
    "guid_args = \"\"\n",
    "counter, batch, batch_size = 0, 0, 100\n",
    "number_of_batches = math.ceil(len(data['value'])/batch_size)\n",
    "\n",
    "for item in data['value']:\n",
    "    counter += 1\n",
    "    guid_args += f\" --guid {item['id']}\"\n",
    "    if counter == batch_size:\n",
    "        batch += 1\n",
    "        print(f'Batch {batch} of {number_of_batches}')\n",
    "        bulk = !pvw entity readBulk {guid_args}\n",
    "        bulk = getJSON(bulk)\n",
    "        \n",
    "        for item in bulk['entities']:\n",
    "            entity_collection.append(item)\n",
    "        counter, guid_args = 0, \"\"\n",
    "\n",
    "batch += 1\n",
    "print(f'Batch {batch} of {number_of_batches}')\n",
    "bulk = !pvw entity readBulk {guid_args}\n",
    "bulk = getJSON(bulk)\n",
    "for item in bulk['entities']:\n",
    "    entity_collection.append(item)"
   ]
  },
  {
   "cell_type": "code",
   "execution_count": null,
   "metadata": {},
   "outputs": [],
   "source": [
    "# Loop through relationshipAttributes for tabular_schema\n",
    "for entity in entity_collection:\n",
    "    for attr in entity['relationshipAttributes']:\n",
    "        if attr == 'tabular_schema':\n",
    "            print(f\"{entity['typeName']}\\t{entity['attributes']['name']}\")"
   ]
  },
  {
   "cell_type": "code",
   "execution_count": null,
   "metadata": {},
   "outputs": [],
   "source": []
  }
 ],
 "metadata": {
  "interpreter": {
   "hash": "38dab8daf3a14bb76ce346c948212f800f160c39f9c84db991f8e443a619a3a6"
  },
  "kernelspec": {
   "display_name": "Python 3.9.1  ('env': venv)",
   "name": "python3"
  },
  "language_info": {
   "codemirror_mode": {
    "name": "ipython",
    "version": 3
   },
   "file_extension": ".py",
   "mimetype": "text/x-python",
   "name": "python",
   "nbconvert_exporter": "python",
   "pygments_lexer": "ipython3",
   "version": "3.9.1"
  },
  "orig_nbformat": 4
 },
 "nbformat": 4,
 "nbformat_minor": 2
}
